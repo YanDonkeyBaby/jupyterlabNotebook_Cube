{
 "cells": [
  {
   "cell_type": "markdown",
   "id": "362f182e-cdf9-41b6-9345-944d56f5bb2b",
   "metadata": {},
   "source": [
    "# 数据合并\n"
   ]
  },
  {
   "cell_type": "code",
   "execution_count": null,
   "id": "203ffca2-0000-4034-8efe-5d0c52e18724",
   "metadata": {},
   "outputs": [],
   "source": [
    "#@param {\"id\":\"data-references\"}\n",
    "data_reference_kwargs=[\n",
    "  {\n",
    "     \"dataset\":\"Default\",\n",
    "     \"dataset_entity\":\"Default\",\n",
    "     \"file_list\":None,\n",
    "     \"file_type\":csv,\n",
    "  }\n",
    "]\n"
   ]
  }
 ],
 "metadata": {
  "kernelspec": {
   "display_name": "Python 3 (ipykernel)",
   "language": "python",
   "name": "python3"
  },
  "language_info": {
   "codemirror_mode": {
    "name": "ipython",
    "version": 3
   },
   "file_extension": ".py",
   "mimetype": "text/x-python",
   "name": "python",
   "nbconvert_exporter": "python",
   "pygments_lexer": "ipython3",
   "version": "3.10.4"
  },
  "toc-autonumbering": true
 },
 "nbformat": 4,
 "nbformat_minor": 5
}
